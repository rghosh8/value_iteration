{
 "cells": [
  {
   "cell_type": "code",
   "execution_count": 1,
   "id": "89bc1396-fde8-4412-aa14-862e372c7ef1",
   "metadata": {},
   "outputs": [],
   "source": [
    "states = ('H', 'G', 'F', 'D')"
   ]
  },
  {
   "cell_type": "code",
   "execution_count": 2,
   "id": "4bedc368-6a95-4812-8e6c-b2bbb652271e",
   "metadata": {},
   "outputs": [],
   "source": [
    "import numpy as np"
   ]
  },
  {
   "cell_type": "code",
   "execution_count": 3,
   "id": "19d28bb1-d872-4849-851c-894e8978069d",
   "metadata": {},
   "outputs": [],
   "source": [
    "tran_prob = np.array([0.5, 0.4, 0.0, 0.1, 0.2, 0.1, 0.6, 0.1, 0.9, 0.0, 0.0, 0.1, 0.0, 0.0, 0.0, 1.0]).reshape(4,4)\n",
    "\n"
   ]
  },
  {
   "cell_type": "code",
   "execution_count": 4,
   "id": "68c31261-f89e-4bab-b6db-999b30a96ea8",
   "metadata": {},
   "outputs": [
    {
     "data": {
      "text/plain": [
       "array([[0.5, 0.4, 0. , 0.1],\n",
       "       [0.2, 0.1, 0.6, 0.1],\n",
       "       [0.9, 0. , 0. , 0.1],\n",
       "       [0. , 0. , 0. , 1. ]])"
      ]
     },
     "execution_count": 4,
     "metadata": {},
     "output_type": "execute_result"
    }
   ],
   "source": [
    "tran_prob"
   ]
  },
  {
   "cell_type": "code",
   "execution_count": 5,
   "id": "84ed3ac4-f385-4c0a-8c5f-338fe00155eb",
   "metadata": {},
   "outputs": [],
   "source": [
    "reward = np.array([0, 1, 10, -10]).reshape(4,1)"
   ]
  },
  {
   "cell_type": "code",
   "execution_count": 6,
   "id": "de471372-1a66-4ced-85d0-5b6636536f7e",
   "metadata": {},
   "outputs": [
    {
     "data": {
      "text/plain": [
       "array([[  0],\n",
       "       [  1],\n",
       "       [ 10],\n",
       "       [-10]])"
      ]
     },
     "execution_count": 6,
     "metadata": {},
     "output_type": "execute_result"
    }
   ],
   "source": [
    "reward"
   ]
  },
  {
   "cell_type": "code",
   "execution_count": 7,
   "id": "bc5d5588-463a-4426-900d-57c2716304e7",
   "metadata": {},
   "outputs": [],
   "source": [
    "gamma = 0.9"
   ]
  },
  {
   "cell_type": "code",
   "execution_count": 8,
   "id": "11029750-1743-4181-b788-1fe3e5a45806",
   "metadata": {},
   "outputs": [],
   "source": [
    "v=np.arange(400).reshape(100,4)"
   ]
  },
  {
   "cell_type": "code",
   "execution_count": 9,
   "id": "affb3ad8-1ceb-41c1-a67d-f32cd8ad42e6",
   "metadata": {},
   "outputs": [],
   "source": [
    "v0 = reward\n",
    "v1 = reward + gamma*np.matmul(tran_prob,v0)\n",
    "v2 = reward + gamma*np.matmul(tran_prob,v1)\n",
    "v3 = reward + gamma*np.matmul(tran_prob,v2)"
   ]
  },
  {
   "cell_type": "code",
   "execution_count": 10,
   "id": "c5693cd7-6e6f-49f4-b212-a774d2c7b2aa",
   "metadata": {},
   "outputs": [
    {
     "data": {
      "text/plain": [
       "array([[ -0.54],\n",
       "       [  5.59],\n",
       "       [  9.1 ],\n",
       "       [-19.  ]])"
      ]
     },
     "execution_count": 10,
     "metadata": {},
     "output_type": "execute_result"
    }
   ],
   "source": [
    "v1"
   ]
  },
  {
   "cell_type": "code",
   "execution_count": 76,
   "id": "28313e7c-4d40-4399-a036-27fadb45059b",
   "metadata": {},
   "outputs": [],
   "source": [
    "def value_interation(initial, gamma, tran_prob, iter_no):\n",
    "    v0 = initial;\n",
    "    if iter_no==1:\n",
    "        return v0\n",
    "    else:\n",
    "        return initial + gamma*np.matmul(tran_prob, value_interation(initial, gamma, tran_prob, iter_no - 1))\n",
    "\n",
    "    "
   ]
  },
  {
   "cell_type": "code",
   "execution_count": 78,
   "id": "9abd9809-fc5f-4649-9c06-2c296b3e8901",
   "metadata": {},
   "outputs": [
    {
     "data": {
      "text/plain": [
       "array([[-39.08502487],\n",
       "       [-34.71463426],\n",
       "       [-30.65836548],\n",
       "       [-99.99734386]])"
      ]
     },
     "execution_count": 78,
     "metadata": {},
     "output_type": "execute_result"
    }
   ],
   "source": [
    "value_interation(reward, gamma, tran_prob, 100)"
   ]
  },
  {
   "cell_type": "code",
   "execution_count": null,
   "id": "beaacbfe-39e8-4c84-9ee8-2e930518a6fa",
   "metadata": {},
   "outputs": [],
   "source": []
  }
 ],
 "metadata": {
  "kernelspec": {
   "display_name": "Python 3 (ipykernel)",
   "language": "python",
   "name": "python3"
  },
  "language_info": {
   "codemirror_mode": {
    "name": "ipython",
    "version": 3
   },
   "file_extension": ".py",
   "mimetype": "text/x-python",
   "name": "python",
   "nbconvert_exporter": "python",
   "pygments_lexer": "ipython3",
   "version": "3.9.10"
  }
 },
 "nbformat": 4,
 "nbformat_minor": 5
}
